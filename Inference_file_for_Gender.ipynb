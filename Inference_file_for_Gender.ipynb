{
  "nbformat": 4,
  "nbformat_minor": 0,
  "metadata": {
    "colab": {
      "provenance": [],
      "authorship_tag": "ABX9TyO1D75IxGJqE/nUEUyuyvPs",
      "include_colab_link": true
    },
    "kernelspec": {
      "name": "python3",
      "display_name": "Python 3"
    },
    "language_info": {
      "name": "python"
    }
  },
  "cells": [
    {
      "cell_type": "markdown",
      "metadata": {
        "id": "view-in-github",
        "colab_type": "text"
      },
      "source": [
        "<a href=\"https://colab.research.google.com/github/IISC-GROUP-5/Jupyter_Notebooks/blob/Pratima/Inference_file_for_Gender.ipynb\" target=\"_parent\"><img src=\"https://colab.research.google.com/assets/colab-badge.svg\" alt=\"Open In Colab\"/></a>"
      ]
    },
    {
      "cell_type": "code",
      "source": [
        "import pandas as pd\n",
        "import numpy as np\n",
        "from sklearn.model_selection import train_test_split\n",
        "from sklearn.linear_model import LogisticRegression\n",
        "\n",
        "from sklearn.preprocessing import StandardScaler\n",
        "import json\n",
        "\n",
        "\n",
        "import pickle\n",
        "import warnings\n",
        "\n",
        "warnings.filterwarnings(\"ignore\")"
      ],
      "metadata": {
        "id": "DoGHoWxsIdAW"
      },
      "execution_count": null,
      "outputs": []
    },
    {
      "cell_type": "code",
      "source": [
        "def load_model(model_file):\n",
        "    \"\"\"\n",
        "    Load the trained model from a .pkl file.\n",
        "    \"\"\"\n",
        "    with open(model_file, 'rb') as file:\n",
        "        model = pickle.load(file)\n",
        "    print(f\"Model loaded successfully from {model_file}\")\n",
        "    return model"
      ],
      "metadata": {
        "id": "9J4bu6qbMKIS"
      },
      "execution_count": null,
      "outputs": []
    },
    {
      "cell_type": "code",
      "source": [
        "def preprocessing(new_data):\n",
        "  \"\"\"\n",
        "  Loads a saved model and makes predictions on new data.\n",
        "\n",
        "  Args:\n",
        "    model_path: Path to the saved model file.\n",
        "    new_data: A pandas DataFrame containing new data.\n",
        "\n",
        "  Returns:\n",
        "    A list of predicted labels.\n",
        "  \"\"\"\n",
        "  # Replace spaces in column names with underscores\n",
        "  new_data.columns = new_data.columns.str.replace(' ', '_')\n",
        "\n",
        "\n",
        "  # Handle missing values\n",
        "  for col in new_data.columns:\n",
        "    if new_data[col].isnull().sum() > 0:\n",
        "      if pd.api.types.is_numeric_dtype(new_data[col]):\n",
        "        # For numeric columns, fill missing values with median\n",
        "        new_data[col].fillna(new_data[col].median(), inplace=True)\n",
        "      else:\n",
        "        # For categorical columns, fill missing values with the most frequent value\n",
        "        new_data[col].fillna(new_data[col].mode()[0], inplace=True)\n",
        "\n",
        "  # Round 'Area Income' to 2 decimal places\n",
        "  new_data['Area_Income'] = new_data['Area_Income'].round(2)\n",
        "\n",
        "  # Preprocess new data (adjust as needed)\n",
        "  label_encoding_mapping = {'Female': 0, 'Male': 1}\n",
        "  new_data['Gender'] = new_data['Gender'].map(label_encoding_mapping)\n",
        "\n",
        "  return new_data\n"
      ],
      "metadata": {
        "id": "wXSkRrCSAwCM"
      },
      "execution_count": null,
      "outputs": []
    },
    {
      "cell_type": "code",
      "source": [
        "def make_prediction(model, clean_data):\n",
        "  \"\"\"\n",
        "  Loads a saved model and makes predictions on new data.\n",
        "\n",
        "  Args:\n",
        "    model_path: Path to the saved model file.\n",
        "    new_data: A pandas DataFrame containing new data.\n",
        "\n",
        "  Returns:\n",
        "    A list of predicted labels.\n",
        "  \"\"\"\n",
        " # Ensure only the required columns are used\n",
        "  clean_data = clean_data[feature_columns]\n",
        "\n",
        "  # Make predictions\n",
        "  prediction = model.predict(clean_data)\n",
        "  probabilities = model.predict_proba(clean_data)\n",
        "  print('Gender:' , prediction)\n",
        "  print('Probabilities:', probabilities)\n",
        "  return prediction, probabilities"
      ],
      "metadata": {
        "id": "jCdCVaKmgYi8"
      },
      "execution_count": null,
      "outputs": []
    },
    {
      "cell_type": "code",
      "source": [
        "def save_inference_results(output_file, clean_data, predictions, probabilities, rawdata):\n",
        "    \"\"\"\n",
        "    Save the inference results to a file in JSON format.\n",
        "    The `raw data` is used to store input in the original form.\n",
        "    \"\"\"\n",
        "    results = []\n",
        "\n",
        "    for i, row in enumerate(new_data.to_dict(orient='records')):\n",
        "        result = {\n",
        "            \"new_data\": row,\n",
        "            \"prediction\": int(predictions[i])\n",
        "            }\n",
        "        if probabilities is not None:\n",
        "            result[\"probabilities\"] = list(probabilities[i])\n",
        "        results.append(result)\n",
        "\n",
        "    # Save to a JSON file\n",
        "    with open(output_file, 'w') as file:\n",
        "        json.dump(results, file, indent=4)\n",
        "\n",
        "    print(f\"Inference results saved to {output_file}\")\n"
      ],
      "metadata": {
        "id": "oTD0yXOyaILG"
      },
      "execution_count": null,
      "outputs": []
    },
    {
      "cell_type": "code",
      "source": [
        "model = load_model('CP_LR_Gender.pkl')\n",
        "\n",
        "# Define feature columns (must match the training data)\n",
        "feature_columns = ['Daily_Time_Spent_on_Site', 'Age', 'Area_Income', 'Daily_Internet_Usage', 'Clicked_on_Ad']\n",
        "\n",
        "\n",
        "# Adding new file path in here\n",
        "new_data = pd.read_csv('advertising_ef.csv')\n",
        "\n",
        "rawdata = pd.DataFrame(new_data)\n",
        "\n",
        "clean_data = preprocessing(new_data)\n",
        "predictions, probabilities = make_prediction(model, clean_data)\n",
        "\n",
        "save_inference_results('Gender_inference_results.json', clean_data, predictions, probabilities, rawdata)"
      ],
      "metadata": {
        "colab": {
          "base_uri": "https://localhost:8080/"
        },
        "id": "WIfFpymAMMvq",
        "outputId": "3301bff3-73f9-46d5-824e-12c8fc72df7f"
      },
      "execution_count": null,
      "outputs": [
        {
          "output_type": "stream",
          "name": "stdout",
          "text": [
            "Model loaded successfully from CP_LR_Gender.pkl\n",
            "Gender: [1 1 1 ... 0 1 0]\n",
            "Probabilities: [[0.4822626  0.5177374 ]\n",
            " [0.49721064 0.50278936]\n",
            " [0.4954478  0.5045522 ]\n",
            " ...\n",
            " [0.54936946 0.45063054]\n",
            " [0.49930553 0.50069447]\n",
            " [0.54899398 0.45100602]]\n",
            "Inference results saved to Gender_inference_results.json\n"
          ]
        }
      ]
    },
    {
      "cell_type": "code",
      "source": [],
      "metadata": {
        "id": "C7PZJR6nAwEe"
      },
      "execution_count": null,
      "outputs": []
    },
    {
      "cell_type": "code",
      "source": [],
      "metadata": {
        "id": "grcXpEzwAwIj"
      },
      "execution_count": null,
      "outputs": []
    },
    {
      "cell_type": "code",
      "source": [],
      "metadata": {
        "id": "yR_bEJq_AwN1"
      },
      "execution_count": null,
      "outputs": []
    }
  ]
}